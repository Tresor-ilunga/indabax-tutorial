{
 "cells": [
  {
   "cell_type": "markdown",
   "metadata": {
    "id": "24343ed7"
   },
   "source": [
    "# IndabaX DRC 2023\n",
    "\n"
   ]
  },
  {
   "cell_type": "markdown",
   "metadata": {
    "id": "06df0f37"
   },
   "source": [
    "# Tutoriel: LA REGRESSION LOGISTIQUE\n",
    "\n",
    "### **Introduction**\n",
    "\n",
    "Dans le présent tutoriel, nous allons voir la régression logistique, en utilisant la bibliothèque d’apprentissage automatique Scikit-learn.\n",
    "\n",
    "L’algorithme de régression logistique est un algorithme de classification plutôt que de régression, il se base sur un ensemble de données indépendantes et il est ainsi utilisé pour estimer une valeur discrète."
   ]
  },
  {
   "cell_type": "markdown",
   "metadata": {
    "id": "19627944"
   },
   "source": [
    "### 1. Définition\n",
    "\n",
    "L’algorithme de régression logistique mesure la relation entre la variable dépendante catégorielle et une ou plusieurs variables indépendantes en donnant une estimation à la probabilité d’occurrence d’un événement à travers l’usage de sa fonction logistique.\n",
    "\n",
    "Il existe plusieurs types de régression logistique, à savoir :\n",
    "\n",
    "  - Régression logistique binaire : la variable cible n’a que deux résultats possibles, comme par exemple « cancer » ou « pas de cancer ».\n",
    "  - Régression logistique multinomiale : la variable cible a trois catégories nominales ou plus, comme par exemple la prédiction du type d’un iris.\n",
    "  - Régression logistique ordinale : la variable cible a trois catégories ordinales ou plus, comme la notation des produits de 1 à 5."
   ]
  },
  {
   "cell_type": "markdown",
   "metadata": {
    "id": "9d6bbe1d"
   },
   "source": [
    "### 2. Régression linéaire Vs. Régression Logistique\n",
    "\n",
    "La régression linéaire donne un résultat continu. La régression logistique quant à elle, donne un résultat constant.\n",
    "\n",
    "Prenons l’exemple des prix des maisons et des actions dans la bourse, ce sont alors des exemples de production continue. Par contre, la prédiction qu’un patient qui souffre d’un cancer ou non est un exemple de sortie discrète. Nous identifions également l’exemple de la prédiction du taux de désabonnement de client.\n",
    "\n",
    "Cependant, la régression linéaire est estimée en utilisant la méthode des moindres carrés ordinaire (MOC), tandis que la régression logistique est estimée en utilisant l’approche de l’estimateur au maximum de vraisemblance (EMV)."
   ]
  },
  {
   "cell_type": "markdown",
   "metadata": {
    "id": "42b3dfb7"
   },
   "source": [
    "### 3. Module Scikit-learn\n",
    "\n",
    "La bibliothèque d’apprentissage automatique Scikit-learn fournit pour la régression logistique le module sklearn.linear_model.LogisticRegression.\n",
    "\n",
    "LogisticRegression peut prendre plusieurs paramètres dont :\n",
    "\n",
    "- random_state : représente la graine du nombre pseudo-aléatoire généré. Ce dernier est utilisé lors de la réorganisation de données. Il peut prendre trois options, notamment :\n",
    "<ul>\n",
    "<li>int : random_state dans ce cas est la graine utilisée par le générateur de nombres aléatoires.\n",
    "<li>RandomState instance : random_state dans ce cas est le générateur de nombres aléatoires.\n",
    "<li>None : le générateur de nombres aléatoires est l’instance RandomState qui est utilisée par np.random.\n",
    "</ul>\n",
    "Par défaut ce paramètre prend None.\n",
    "\n",
    "- solver : ce paramètre représente l’algorithme à utiliser pour le problème d’optimisation. Il peut prendre l’une des options suivantes :\n",
    "<ul>\n",
    "<li>linlinear : le meilleur choix pour les petits ensembles de données. Il gère la pénalité L1.\n",
    "<li>newton-cg : gère que la pénalité L2.\n",
    "<li>lbfgs : gère la perte multinomiale pour les problèmes multi classes. Il ne gère également que la pénalité L2.\n",
    "<li>saga : représente un bon choix pour les grands ensembles de données. Pour les problèmes multi classes, il gère les pertes multinomiales. Il prend en charge la pénalité L1 et la pénalité « elasticnet».\n",
    "<li>sag : cette option est aussi idéale pour les grands ensembles de données et gère la perte multinomiale pour les problèmes multi classes.\n",
    "</ul>\n",
    "Par défaut ce paramètre prend linlinear.\n",
    "\n",
    "- multi_class : ce paramètre présente les options suivantes :\n",
    "<ul>\n",
    "<li>ovr : si cette option est choisie, donc un problème binaire est adapté à chaque étiquette.\n",
    "<li>multin : si cette option est choisie, alors la perte minimisée est l’ajustement de la perte multinomiale sur l’ensemble de la distribution de probabilité. Cette option ne marche pas avec le solveur « lbfgs».\n",
    "</ul>\n",
    "Par défaut ce paramètre prend ovr."
   ]
  },
  {
   "cell_type": "markdown",
   "metadata": {
    "id": "2ebc6c15"
   },
   "source": [
    "### 4. Attributs de la régression logistique\n",
    "\n",
    "Les attributs du LogisticRegression sont les suivants :\n",
    "\n",
    "- coef_ : renvoi le coefficient des caractéristiques de la fonction de décision.\n",
    "\n",
    "- intercept_ : représente la constante ajoutée à la fonction de décision.\n",
    "\n",
    "- n_iter_ : renvoi le nombre réel d’itérations pour chaque classe.\n",
    "\n",
    "Afin de bien assimiler le fonctionnement du modèle de régression logistique, nous allons exploiter le data-set suivant qui concerne les fruits. Où le but est de prédire l’étiquette d’un fruit."
   ]
  },
  {
   "cell_type": "markdown",
   "metadata": {
    "id": "2f20430f"
   },
   "source": [
    "Tout d’abord, nous allons importer les modules ***numpy, pandas et sklearn** (uniquement les éléments dont on a besoin), ensuite on charge le fichier Excel comprenant les données. Puis, on affiche les cinq premiers enregistrements de l’ensemble des données à l’aide de la fonction **head()** afin d’avoir une idée sur la dataset."
   ]
  },
  {
   "cell_type": "code",
   "execution_count": 1,
   "metadata": {
    "colab": {
     "base_uri": "https://localhost:8080/"
    },
    "id": "Rmuc9copNxkR",
    "outputId": "f7b6f7fd-d90d-49d2-87dc-a936dfd2172e"
   },
   "outputs": [],
   "source": [
    "# from google.colab import drive\n",
    "# drive.mount('/content/drive')"
   ]
  },
  {
   "cell_type": "code",
   "execution_count": 3,
   "metadata": {
    "colab": {
     "base_uri": "https://localhost:8080/",
     "height": 206
    },
    "id": "337c2fb7",
    "outputId": "d585d719-055f-49a2-8c16-4b49b87ed65b"
   },
   "outputs": [
    {
     "data": {
      "text/html": [
       "<div>\n",
       "<style scoped>\n",
       "    .dataframe tbody tr th:only-of-type {\n",
       "        vertical-align: middle;\n",
       "    }\n",
       "\n",
       "    .dataframe tbody tr th {\n",
       "        vertical-align: top;\n",
       "    }\n",
       "\n",
       "    .dataframe thead th {\n",
       "        text-align: right;\n",
       "    }\n",
       "</style>\n",
       "<table border=\"1\" class=\"dataframe\">\n",
       "  <thead>\n",
       "    <tr style=\"text-align: right;\">\n",
       "      <th></th>\n",
       "      <th>etiquette_fruit</th>\n",
       "      <th>nom_fruit</th>\n",
       "      <th>poids</th>\n",
       "      <th>largeur</th>\n",
       "      <th>hauteur</th>\n",
       "      <th>score-couleur</th>\n",
       "    </tr>\n",
       "  </thead>\n",
       "  <tbody>\n",
       "    <tr>\n",
       "      <th>0</th>\n",
       "      <td>1</td>\n",
       "      <td>pomme</td>\n",
       "      <td>180</td>\n",
       "      <td>8.4</td>\n",
       "      <td>6.8</td>\n",
       "      <td>0.60</td>\n",
       "    </tr>\n",
       "    <tr>\n",
       "      <th>1</th>\n",
       "      <td>1</td>\n",
       "      <td>pomme</td>\n",
       "      <td>198</td>\n",
       "      <td>8.2</td>\n",
       "      <td>7.5</td>\n",
       "      <td>0.55</td>\n",
       "    </tr>\n",
       "    <tr>\n",
       "      <th>2</th>\n",
       "      <td>1</td>\n",
       "      <td>pomme</td>\n",
       "      <td>174</td>\n",
       "      <td>8.0</td>\n",
       "      <td>7.7</td>\n",
       "      <td>0.59</td>\n",
       "    </tr>\n",
       "    <tr>\n",
       "      <th>3</th>\n",
       "      <td>2</td>\n",
       "      <td>mandarine</td>\n",
       "      <td>85</td>\n",
       "      <td>6.0</td>\n",
       "      <td>4.0</td>\n",
       "      <td>0.80</td>\n",
       "    </tr>\n",
       "    <tr>\n",
       "      <th>4</th>\n",
       "      <td>2</td>\n",
       "      <td>mandarine</td>\n",
       "      <td>80</td>\n",
       "      <td>5.8</td>\n",
       "      <td>4.6</td>\n",
       "      <td>0.81</td>\n",
       "    </tr>\n",
       "  </tbody>\n",
       "</table>\n",
       "</div>"
      ],
      "text/plain": [
       "   etiquette_fruit  nom_fruit  poids  largeur  hauteur  score-couleur\n",
       "0                1      pomme    180      8.4      6.8           0.60\n",
       "1                1      pomme    198      8.2      7.5           0.55\n",
       "2                1      pomme    174      8.0      7.7           0.59\n",
       "3                2  mandarine     85      6.0      4.0           0.80\n",
       "4                2  mandarine     80      5.8      4.6           0.81"
      ]
     },
     "execution_count": 3,
     "metadata": {},
     "output_type": "execute_result"
    }
   ],
   "source": [
    "import numpy as np\n",
    "import pandas as pd\n",
    "from sklearn.model_selection import train_test_split\n",
    "from sklearn import linear_model\n",
    "\n",
    "\n",
    "df = pd.read_excel('fruitDataset.xlsx')\n",
    "df.head()"
   ]
  },
  {
   "cell_type": "code",
   "execution_count": 4,
   "metadata": {},
   "outputs": [
    {
     "data": {
      "text/plain": [
       "(13, 6)"
      ]
     },
     "execution_count": 4,
     "metadata": {},
     "output_type": "execute_result"
    }
   ],
   "source": [
    "df.shape"
   ]
  },
  {
   "cell_type": "markdown",
   "metadata": {
    "id": "1272fa15"
   },
   "source": [
    "On crée ci-contre une correspondance entre la valeur de l’étiquette du fruit et son nom dans le but de faciliter l’interprétation des résultats. Puis, on définit deux variables **x et y** représentant respectivement des **valeurs caractéristiques et la valeur cible**. Ensuite, on utilise la fonction **train_test_split** pour fractionner l’ensemble de données en données **d’entrainement et de test** suivant le pourcentage par défaut 75/25%.\n",
    "\n",
    "On crée par la suite une instance de l’objet **LogisticRegression**, qu’on lui passe en paramètres **random_state, solver et multi_class**.\n",
    "\n",
    "Finalement, on entraine cette instance en utilisant la méthode **fit()** qu’on lui passe en paramètre **x_train et y_train**. Puis, en faisant appel à la méthode **score()** on calcule la précision du modèle."
   ]
  },
  {
   "cell_type": "code",
   "execution_count": null,
   "metadata": {
    "colab": {
     "base_uri": "https://localhost:8080/"
    },
    "id": "12d16ed2",
    "outputId": "94400043-fc12-42de-9d87-a4fe13e8ab30"
   },
   "outputs": [
    {
     "name": "stdout",
     "output_type": "stream",
     "text": [
      "{1: 'pomme', 2: 'mandarine'}\n",
      "100.0\n"
     ]
    }
   ],
   "source": [
    "nom_fruit_cible = dict(zip (df.etiquette_fruit.unique(), df.nom_fruit.unique()))\n",
    "print( nom_fruit_cible )\n",
    "\n",
    "#valeurs caractéristiques et valeur cible\n",
    "x = df [['poids', 'largeur', 'hauteur']]\n",
    "y = df['etiquette_fruit']\n",
    "\n",
    "#fractionner dataset\n",
    "x_train, x_test, y_train, y_test = train_test_split(x, y, random_state = 0)\n",
    "\n",
    "#instanciation du modèle\n",
    "modele_regLog = linear_model.LogisticRegression(random_state = 0, solver = 'liblinear', multi_class = 'auto')\n",
    "\n",
    "#training\n",
    "modele_regLog.fit(x_train,y_train)\n",
    "\n",
    "#précision du modèle\n",
    "precision = modele_regLog.score(x_test,y_test)\n",
    "\n",
    "print(precision*100)"
   ]
  },
  {
   "cell_type": "markdown",
   "metadata": {
    "id": "d190c0fa"
   },
   "source": [
    "On donne au modèle de régression logistique le poids, la largeur et la hauteur d’un fruit et on lui demande de classifier ce fruit en utilisant la méthode de prédiction predict()."
   ]
  },
  {
   "cell_type": "code",
   "execution_count": null,
   "metadata": {
    "id": "4b761353"
   },
   "outputs": [],
   "source": [
    "import warnings\n",
    "warnings.filterwarnings(\"ignore\")"
   ]
  },
  {
   "cell_type": "code",
   "execution_count": null,
   "metadata": {
    "colab": {
     "base_uri": "https://localhost:8080/",
     "height": 35
    },
    "id": "333aa12e",
    "outputId": "10e57ec6-ccce-4414-b445-7b1e80b3249e"
   },
   "outputs": [
    {
     "data": {
      "application/vnd.google.colaboratory.intrinsic+json": {
       "type": "string"
      },
      "text/plain": [
       "'pomme'"
      ]
     },
     "execution_count": 11,
     "metadata": {},
     "output_type": "execute_result"
    }
   ],
   "source": [
    "#prédiction\n",
    "prediction_fruit = modele_regLog.predict([[180,8.0,6.8]])\n",
    "nom_fruit_cible[prediction_fruit[0]]"
   ]
  },
  {
   "cell_type": "code",
   "execution_count": null,
   "metadata": {
    "colab": {
     "base_uri": "https://localhost:8080/",
     "height": 35
    },
    "id": "fd09996d",
    "outputId": "cd3746f4-d203-442a-d9e9-8880502d08f0"
   },
   "outputs": [
    {
     "data": {
      "application/vnd.google.colaboratory.intrinsic+json": {
       "type": "string"
      },
      "text/plain": [
       "'mandarine'"
      ]
     },
     "execution_count": 12,
     "metadata": {},
     "output_type": "execute_result"
    }
   ],
   "source": [
    "#prédiction\n",
    "prediction_fruit = modele_regLog.predict([[20,4.3,5.5]])\n",
    "nom_fruit_cible[prediction_fruit[0]]"
   ]
  },
  {
   "cell_type": "markdown",
   "metadata": {
    "id": "18af962b"
   },
   "source": [
    "### 5. Cas d’utilisation\n",
    "\n",
    "La régression logistique peut être mise en œuvre pour des compagnes de ciblage marketing. Le but ainsi est d’attirer de nouveaux clients. Alors, la construction d’un modèle de régression logistique permettra d’expliquer et de prédire les clients susceptibles d’acheter le produit ou le service offert par l'entreprise.\n",
    "\n",
    "À titre d’exemple, Booking.com utilise plusieurs algorithmes d’apprentissage automatique sur tout son site. Ces algorithmes essayent de prédire les intentions des utilisateurs. Et vu que dans la plupart des cas les données sont plutôt catégoriques que numériques tel que la distinction sur la base du lieu d’origine de l’utilisateur et l’endroit où il veut se rendre. La régression logistique est alors idéale pour prévoir un événement sans avoir des données spécifiques concernant l’utilisateur.\n",
    "\n",
    "En plus de ces deux exemples, le modèle de régression logistique est utilisé dans le domaine médical, dans le text editing et dans le gaming."
   ]
  },
  {
   "cell_type": "markdown",
   "metadata": {
    "id": "de2ae74f"
   },
   "source": [
    "### 6. Avantages et limites\n",
    "\n",
    "#### 6.1. Avantages\n",
    "\n",
    "La régression logistique est un algorithme de classification simple et efficace, alors il ne nécessite pas une grande puissance de calcul et il est facile à mettre en œuvre. Ce modèle d’apprentissage est largement utilisé par les analystes de données et les scientifiques et il ne nécessite pas de mise à l’échelle des fonctionnalités.\n",
    "\n",
    "Enfin, la régression logistique fournit un score de probabilité pour les observations.\n",
    "\n",
    "#### 6.2. Limites\n",
    "\n",
    "La régression logistique n’est pas adaptée à un  grand nombre de caractéristiques. Cet algorithme ne peut pas résoudre le problème de non-linéarité ce qui nécessite la transformation des caractéristiques non linéaires.\n",
    "\n",
    "Ainsi, la régression logistique ne fonctionne pas bien avec des variables indépendantes qui ne sont pas corrélées à la variable cible et qui sont très similaires entre elles."
   ]
  },
  {
   "cell_type": "markdown",
   "metadata": {},
   "source": [
    "___\n",
    "<table style=\" background-color: white; padding: 0;\"><tr>\n",
    "    <td><a href='https://www.jkn-tech.com'><img src='https://jkn-tech.com/static/img/jj.png' height='200px' width='200px'></a></td>\n",
    "    <td><a href='https://junior-081.github.io/juniorkaningini.github.io/index_fr.html'><img src='https://github.com/Junior-081/My-Doc/blob/main/junior.png?raw=true''></a></td>\n",
    "</tr></table>\n",
    "<hr>\n",
    "- <b>Tél : +243 81 71 38 062</b><br>\n",
    "- <b>Mail : junior.kaningini@jkn-tech.com</b>"
   ]
  },
  {
   "cell_type": "markdown",
   "metadata": {
    "id": "dzGbCi4NNiUI"
   },
   "source": [
    "# FIN"
   ]
  }
 ],
 "metadata": {
  "colab": {
   "provenance": []
  },
  "kernelspec": {
   "display_name": "Python 3",
   "language": "python",
   "name": "python3"
  },
  "language_info": {
   "codemirror_mode": {
    "name": "ipython",
    "version": 3
   },
   "file_extension": ".py",
   "mimetype": "text/x-python",
   "name": "python",
   "nbconvert_exporter": "python",
   "pygments_lexer": "ipython3",
   "version": "3.7.3"
  }
 },
 "nbformat": 4,
 "nbformat_minor": 5
}
