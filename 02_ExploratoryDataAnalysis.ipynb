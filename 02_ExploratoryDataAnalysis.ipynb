{
 "cells": [
  {
   "cell_type": "markdown",
   "metadata": {},
   "source": [
    "# IndabaX DRC 2023\n",
    "\n",
    "## Tutoriel : Exploration et Analyse des données\n",
    "\n",
    "### Part 2"
   ]
  },
  {
   "cell_type": "markdown",
   "metadata": {},
   "source": [
    "## 1. Operation sur les données"
   ]
  },
  {
   "cell_type": "markdown",
   "metadata": {},
   "source": [
    "Habituellement, dans certaines tâches d'analyse de données, les informations peuvent être dévoilées lorsque les données sont agrégées ou regroupées.\n",
    "\n",
    "La plupart du temps, cela aide le lecteur à se faire une idée de l'ensemble de données avec lequel il traite et cela révèle également quelques points clés qui peuvent être utilisés lors du processus de prise de décision.\n",
    "\n",
    "Ici, nous en présenterons certains, notamment le regroupement, la synthèse et l'agrégation en utilisant la fonction **groupby**"
   ]
  },
  {
   "cell_type": "markdown",
   "metadata": {},
   "source": [
    "### a. Groupby "
   ]
  },
  {
   "cell_type": "markdown",
   "metadata": {},
   "source": [
    "La fonction **Pandas dataframe.groupby()** est utilisée pour repartir les données en groupe suivant certains critères.\n"
   ]
  },
  {
   "cell_type": "code",
   "execution_count": 1,
   "metadata": {},
   "outputs": [],
   "source": [
    "##Commencos par importer le module Pandas\n",
    "import pandas as pd"
   ]
  },
  {
   "cell_type": "code",
   "execution_count": 2,
   "metadata": {},
   "outputs": [
    {
     "data": {
      "text/html": [
       "<div>\n",
       "<style scoped>\n",
       "    .dataframe tbody tr th:only-of-type {\n",
       "        vertical-align: middle;\n",
       "    }\n",
       "\n",
       "    .dataframe tbody tr th {\n",
       "        vertical-align: top;\n",
       "    }\n",
       "\n",
       "    .dataframe thead th {\n",
       "        text-align: right;\n",
       "    }\n",
       "</style>\n",
       "<table border=\"1\" class=\"dataframe\">\n",
       "  <thead>\n",
       "    <tr style=\"text-align: right;\">\n",
       "      <th></th>\n",
       "      <th>country</th>\n",
       "      <th>continent</th>\n",
       "      <th>year</th>\n",
       "      <th>lifeExp</th>\n",
       "      <th>pop</th>\n",
       "      <th>gdpPercap</th>\n",
       "    </tr>\n",
       "  </thead>\n",
       "  <tbody>\n",
       "    <tr>\n",
       "      <th>0</th>\n",
       "      <td>Algeria</td>\n",
       "      <td>Africa</td>\n",
       "      <td>1952</td>\n",
       "      <td>43.077</td>\n",
       "      <td>9279525</td>\n",
       "      <td>2449.008185</td>\n",
       "    </tr>\n",
       "    <tr>\n",
       "      <th>1</th>\n",
       "      <td>Algeria</td>\n",
       "      <td>Africa</td>\n",
       "      <td>1957</td>\n",
       "      <td>45.685</td>\n",
       "      <td>10270856</td>\n",
       "      <td>3013.976023</td>\n",
       "    </tr>\n",
       "    <tr>\n",
       "      <th>2</th>\n",
       "      <td>Algeria</td>\n",
       "      <td>Africa</td>\n",
       "      <td>1962</td>\n",
       "      <td>48.303</td>\n",
       "      <td>11000948</td>\n",
       "      <td>2550.816880</td>\n",
       "    </tr>\n",
       "    <tr>\n",
       "      <th>3</th>\n",
       "      <td>Algeria</td>\n",
       "      <td>Africa</td>\n",
       "      <td>1967</td>\n",
       "      <td>51.407</td>\n",
       "      <td>12760499</td>\n",
       "      <td>3246.991771</td>\n",
       "    </tr>\n",
       "    <tr>\n",
       "      <th>4</th>\n",
       "      <td>Algeria</td>\n",
       "      <td>Africa</td>\n",
       "      <td>1972</td>\n",
       "      <td>54.518</td>\n",
       "      <td>14760787</td>\n",
       "      <td>4182.663766</td>\n",
       "    </tr>\n",
       "  </tbody>\n",
       "</table>\n",
       "</div>"
      ],
      "text/plain": [
       "   country continent  year  lifeExp       pop    gdpPercap\n",
       "0  Algeria    Africa  1952   43.077   9279525  2449.008185\n",
       "1  Algeria    Africa  1957   45.685  10270856  3013.976023\n",
       "2  Algeria    Africa  1962   48.303  11000948  2550.816880\n",
       "3  Algeria    Africa  1967   51.407  12760499  3246.991771\n",
       "4  Algeria    Africa  1972   54.518  14760787  4182.663766"
      ]
     },
     "execution_count": 2,
     "metadata": {},
     "output_type": "execute_result"
    }
   ],
   "source": [
    "##importer les données\n",
    "\n",
    "df = pd.read_csv('data/gapminder.tsv' , \"\\t\")\n",
    "df.head(5)"
   ]
  },
  {
   "cell_type": "code",
   "execution_count": 23,
   "metadata": {},
   "outputs": [
    {
     "data": {
      "text/plain": [
       "array(['Africa', 'Americas', 'Oceania', 'Europe', 'Asia'], dtype=object)"
      ]
     },
     "execution_count": 23,
     "metadata": {},
     "output_type": "execute_result"
    }
   ],
   "source": [
    "df['continent'].unique()"
   ]
  },
  {
   "cell_type": "code",
   "execution_count": 25,
   "metadata": {},
   "outputs": [
    {
     "data": {
      "text/plain": [
       "array(['Algeria', 'Angola', 'Argentina', 'Australia', 'Austria',\n",
       "       'Bahrain', 'Bangladesh', 'Belgium', 'Benin', 'Bolivia',\n",
       "       'Bosnia and Herzegovina', 'Botswana', 'Brazil', 'Bulgaria',\n",
       "       'Burkina Faso', 'Burundi', 'Cambodia', 'Cameroon', 'Canada',\n",
       "       'Central African Republic', 'Chad', 'Chile', 'China', 'Colombia',\n",
       "       'Comoros', 'Congo, Dem. Rep.', 'Congo, Rep.', 'Costa Rica',\n",
       "       \"Cote d'Ivoire\", 'Croatia', 'Cuba', 'Czech Republic', 'Denmark',\n",
       "       'Djibouti', 'Dominican Republic', 'Ecuador', 'Egypt',\n",
       "       'El Salvador', 'Equatorial Guinea', 'Eritrea', 'Ethiopia',\n",
       "       'Finland', 'France', 'Gabon', 'Gambia', 'Germany', 'Ghana',\n",
       "       'Greece', 'Guatemala', 'Guinea', 'Guinea-Bissau', 'Haiti',\n",
       "       'Honduras', 'Hong Kong, China', 'Hungary', 'Iceland', 'India',\n",
       "       'Indonesia', 'Iran', 'Iraq', 'Ireland', 'Israel', 'Italy',\n",
       "       'Jamaica', 'Japan', 'Jordan', 'Kenya', 'Korea, Dem. Rep.',\n",
       "       'Korea, Rep.', 'Kuwait', 'Lebanon', 'Lesotho', 'Liberia', 'Libya',\n",
       "       'Madagascar', 'Malawi', 'Malaysia', 'Mali', 'Mauritania',\n",
       "       'Mauritius', 'Mexico', 'Mongolia', 'Montenegro', 'Morocco',\n",
       "       'Mozambique', 'Myanmar', 'Namibia', 'Nepal', 'Netherlands',\n",
       "       'New Zealand', 'Nicaragua', 'Niger', 'Nigeria', 'Norway', 'Oman',\n",
       "       'Pakistan', 'Panama', 'Paraguay', 'Peru', 'Philippines', 'Poland',\n",
       "       'Portugal', 'Puerto Rico', 'Reunion', 'Romania', 'Rwanda',\n",
       "       'Sao Tome and Principe', 'Saudi Arabia', 'Senegal', 'Serbia',\n",
       "       'Sierra Leone', 'Singapore', 'Slovak Republic', 'Slovenia',\n",
       "       'Somalia', 'South Africa', 'Spain', 'Sri Lanka', 'Sudan',\n",
       "       'Swaziland', 'Sweden', 'Switzerland', 'Syria', 'Taiwan',\n",
       "       'Tanzania', 'Thailand', 'Togo', 'Trinidad and Tobago', 'Tunisia',\n",
       "       'Turkey', 'Uganda', 'United Kingdom', 'United States', 'Uruguay',\n",
       "       'Venezuela', 'Vietnam', 'West Bank and Gaza', 'Yemen, Rep.',\n",
       "       'Zambia', 'Zimbabwe'], dtype=object)"
      ]
     },
     "execution_count": 25,
     "metadata": {},
     "output_type": "execute_result"
    }
   ],
   "source": [
    "df['country'].unique()"
   ]
  },
  {
   "cell_type": "code",
   "execution_count": 3,
   "metadata": {},
   "outputs": [
    {
     "data": {
      "text/plain": [
       "<pandas.core.groupby.groupby.DataFrameGroupBy object at 0x7f44cec89358>"
      ]
     },
     "execution_count": 3,
     "metadata": {},
     "output_type": "execute_result"
    }
   ],
   "source": [
    "#Groupons les donnée par année (year)\n",
    "g1 = df.groupby('year')\n",
    "g1"
   ]
  },
  {
   "cell_type": "markdown",
   "metadata": {},
   "source": [
    "Bien que les données soient groupées, elles ne donnent aucune information pertinente puisque l'utilisateur n'a pas demandé autre chose que les données à regrouper par année.\n",
    "\n",
    "**Et si nous voulons obtenir la moyenne de l'espérance de vie (life expectancy) pour les données groupées annuelles ?**"
   ]
  },
  {
   "cell_type": "code",
   "execution_count": 4,
   "metadata": {},
   "outputs": [
    {
     "data": {
      "text/plain": [
       "year\n",
       "1952    49.158221\n",
       "1957    51.603135\n",
       "1962    53.683545\n",
       "1967    55.757694\n",
       "1972    57.729649\n",
       "1977    59.654245\n",
       "1982    61.624571\n",
       "1987    63.309779\n",
       "1992    64.267950\n",
       "1997    65.124079\n",
       "2002    65.792136\n",
       "2007    67.105736\n",
       "Name: lifeExp, dtype: float64"
      ]
     },
     "execution_count": 4,
     "metadata": {},
     "output_type": "execute_result"
    }
   ],
   "source": [
    "g1.lifeExp.mean()"
   ]
  },
  {
   "cell_type": "markdown",
   "metadata": {},
   "source": [
    "\n",
    "**On peut aussi afficher la variance de la colonne de population pour les données groupées par continent**"
   ]
  },
  {
   "cell_type": "code",
   "execution_count": 5,
   "metadata": {},
   "outputs": [
    {
     "data": {
      "text/plain": [
       "continent\n",
       "Africa      2.399687e+14\n",
       "Americas    2.598902e+15\n",
       "Asia        4.402000e+16\n",
       "Europe      4.279715e+14\n",
       "Oceania     4.233249e+13\n",
       "Name: pop, dtype: float64"
      ]
     },
     "execution_count": 5,
     "metadata": {},
     "output_type": "execute_result"
    }
   ],
   "source": [
    "g2  = df.groupby('continent')\n",
    "g2.pop.var()"
   ]
  },
  {
   "cell_type": "markdown",
   "metadata": {},
   "source": [
    "\n",
    "**Aussi les statistiques descriptives de l'espérance de vie (lifeExp) pour les données groupées annuelles**"
   ]
  },
  {
   "cell_type": "code",
   "execution_count": 6,
   "metadata": {},
   "outputs": [
    {
     "data": {
      "text/html": [
       "<div>\n",
       "<style scoped>\n",
       "    .dataframe tbody tr th:only-of-type {\n",
       "        vertical-align: middle;\n",
       "    }\n",
       "\n",
       "    .dataframe tbody tr th {\n",
       "        vertical-align: top;\n",
       "    }\n",
       "\n",
       "    .dataframe thead th {\n",
       "        text-align: right;\n",
       "    }\n",
       "</style>\n",
       "<table border=\"1\" class=\"dataframe\">\n",
       "  <thead>\n",
       "    <tr style=\"text-align: right;\">\n",
       "      <th></th>\n",
       "      <th>count</th>\n",
       "      <th>mean</th>\n",
       "      <th>std</th>\n",
       "      <th>min</th>\n",
       "      <th>25%</th>\n",
       "      <th>50%</th>\n",
       "      <th>75%</th>\n",
       "      <th>max</th>\n",
       "    </tr>\n",
       "    <tr>\n",
       "      <th>year</th>\n",
       "      <th></th>\n",
       "      <th></th>\n",
       "      <th></th>\n",
       "      <th></th>\n",
       "      <th></th>\n",
       "      <th></th>\n",
       "      <th></th>\n",
       "      <th></th>\n",
       "    </tr>\n",
       "  </thead>\n",
       "  <tbody>\n",
       "    <tr>\n",
       "      <th>1952</th>\n",
       "      <td>140.0</td>\n",
       "      <td>49.158221</td>\n",
       "      <td>12.181478</td>\n",
       "      <td>30.000</td>\n",
       "      <td>39.11500</td>\n",
       "      <td>45.1355</td>\n",
       "      <td>59.96400</td>\n",
       "      <td>72.670</td>\n",
       "    </tr>\n",
       "    <tr>\n",
       "      <th>1957</th>\n",
       "      <td>140.0</td>\n",
       "      <td>51.603135</td>\n",
       "      <td>12.169108</td>\n",
       "      <td>31.570</td>\n",
       "      <td>41.32650</td>\n",
       "      <td>48.3605</td>\n",
       "      <td>63.18325</td>\n",
       "      <td>73.470</td>\n",
       "    </tr>\n",
       "    <tr>\n",
       "      <th>1962</th>\n",
       "      <td>140.0</td>\n",
       "      <td>53.683545</td>\n",
       "      <td>12.007452</td>\n",
       "      <td>32.767</td>\n",
       "      <td>43.54950</td>\n",
       "      <td>50.8810</td>\n",
       "      <td>65.33700</td>\n",
       "      <td>73.680</td>\n",
       "    </tr>\n",
       "    <tr>\n",
       "      <th>1967</th>\n",
       "      <td>140.0</td>\n",
       "      <td>55.757694</td>\n",
       "      <td>11.624418</td>\n",
       "      <td>34.113</td>\n",
       "      <td>46.17325</td>\n",
       "      <td>53.8250</td>\n",
       "      <td>67.50250</td>\n",
       "      <td>74.160</td>\n",
       "    </tr>\n",
       "    <tr>\n",
       "      <th>1972</th>\n",
       "      <td>140.0</td>\n",
       "      <td>57.729649</td>\n",
       "      <td>11.284350</td>\n",
       "      <td>35.400</td>\n",
       "      <td>48.62675</td>\n",
       "      <td>56.5300</td>\n",
       "      <td>69.29250</td>\n",
       "      <td>74.720</td>\n",
       "    </tr>\n",
       "    <tr>\n",
       "      <th>1977</th>\n",
       "      <td>140.0</td>\n",
       "      <td>59.654245</td>\n",
       "      <td>11.136169</td>\n",
       "      <td>31.220</td>\n",
       "      <td>50.72650</td>\n",
       "      <td>59.6720</td>\n",
       "      <td>70.42000</td>\n",
       "      <td>76.110</td>\n",
       "    </tr>\n",
       "    <tr>\n",
       "      <th>1982</th>\n",
       "      <td>140.0</td>\n",
       "      <td>61.624571</td>\n",
       "      <td>10.663845</td>\n",
       "      <td>38.445</td>\n",
       "      <td>52.95400</td>\n",
       "      <td>62.4415</td>\n",
       "      <td>70.98575</td>\n",
       "      <td>77.110</td>\n",
       "    </tr>\n",
       "    <tr>\n",
       "      <th>1987</th>\n",
       "      <td>140.0</td>\n",
       "      <td>63.309779</td>\n",
       "      <td>10.433923</td>\n",
       "      <td>39.906</td>\n",
       "      <td>54.97025</td>\n",
       "      <td>65.8340</td>\n",
       "      <td>71.80575</td>\n",
       "      <td>78.670</td>\n",
       "    </tr>\n",
       "    <tr>\n",
       "      <th>1992</th>\n",
       "      <td>140.0</td>\n",
       "      <td>64.267950</td>\n",
       "      <td>11.127546</td>\n",
       "      <td>23.599</td>\n",
       "      <td>56.32925</td>\n",
       "      <td>67.7030</td>\n",
       "      <td>72.63875</td>\n",
       "      <td>79.360</td>\n",
       "    </tr>\n",
       "    <tr>\n",
       "      <th>1997</th>\n",
       "      <td>140.0</td>\n",
       "      <td>65.124079</td>\n",
       "      <td>11.453762</td>\n",
       "      <td>36.087</td>\n",
       "      <td>55.78525</td>\n",
       "      <td>69.3940</td>\n",
       "      <td>74.32900</td>\n",
       "      <td>80.690</td>\n",
       "    </tr>\n",
       "    <tr>\n",
       "      <th>2002</th>\n",
       "      <td>140.0</td>\n",
       "      <td>65.792136</td>\n",
       "      <td>12.175622</td>\n",
       "      <td>39.193</td>\n",
       "      <td>56.08675</td>\n",
       "      <td>70.8255</td>\n",
       "      <td>75.35775</td>\n",
       "      <td>82.000</td>\n",
       "    </tr>\n",
       "    <tr>\n",
       "      <th>2007</th>\n",
       "      <td>140.0</td>\n",
       "      <td>67.105736</td>\n",
       "      <td>11.972559</td>\n",
       "      <td>39.613</td>\n",
       "      <td>57.74675</td>\n",
       "      <td>71.9355</td>\n",
       "      <td>76.39850</td>\n",
       "      <td>82.603</td>\n",
       "    </tr>\n",
       "  </tbody>\n",
       "</table>\n",
       "</div>"
      ],
      "text/plain": [
       "      count       mean        std     min       25%      50%       75%     max\n",
       "year                                                                          \n",
       "1952  140.0  49.158221  12.181478  30.000  39.11500  45.1355  59.96400  72.670\n",
       "1957  140.0  51.603135  12.169108  31.570  41.32650  48.3605  63.18325  73.470\n",
       "1962  140.0  53.683545  12.007452  32.767  43.54950  50.8810  65.33700  73.680\n",
       "1967  140.0  55.757694  11.624418  34.113  46.17325  53.8250  67.50250  74.160\n",
       "1972  140.0  57.729649  11.284350  35.400  48.62675  56.5300  69.29250  74.720\n",
       "1977  140.0  59.654245  11.136169  31.220  50.72650  59.6720  70.42000  76.110\n",
       "1982  140.0  61.624571  10.663845  38.445  52.95400  62.4415  70.98575  77.110\n",
       "1987  140.0  63.309779  10.433923  39.906  54.97025  65.8340  71.80575  78.670\n",
       "1992  140.0  64.267950  11.127546  23.599  56.32925  67.7030  72.63875  79.360\n",
       "1997  140.0  65.124079  11.453762  36.087  55.78525  69.3940  74.32900  80.690\n",
       "2002  140.0  65.792136  12.175622  39.193  56.08675  70.8255  75.35775  82.000\n",
       "2007  140.0  67.105736  11.972559  39.613  57.74675  71.9355  76.39850  82.603"
      ]
     },
     "execution_count": 6,
     "metadata": {},
     "output_type": "execute_result"
    }
   ],
   "source": [
    "g3 = df.groupby('year')\n",
    "g3.lifeExp.describe()"
   ]
  },
  {
   "cell_type": "markdown",
   "metadata": {},
   "source": [
    "**Cela peut même être avancé d'un niveau, car nous pourrions également obtenir la moyenne\n",
    "du pibPerCap (gdpPercap) pour les données groupées annuelles et \"par continent\"**"
   ]
  },
  {
   "cell_type": "code",
   "execution_count": 7,
   "metadata": {},
   "outputs": [
    {
     "data": {
      "text/plain": [
       "year  continent\n",
       "1952  Africa        1252.572466\n",
       "      Americas      4079.062552\n",
       "      Asia          5333.485213\n",
       "      Europe        5801.057480\n",
       "      Oceania      10298.085650\n",
       "1957  Africa        1385.236062\n",
       "      Americas      4616.043733\n",
       "      Asia          5942.947937\n",
       "      Europe        7136.141387\n",
       "      Oceania      11598.522455\n",
       "1962  Africa        1598.078825\n",
       "      Americas      4901.541870\n",
       "      Asia          5881.753028\n",
       "      Europe        8574.197085\n",
       "      Oceania      12696.452430\n",
       "1967  Africa        2050.363801\n",
       "      Americas      5668.253496\n",
       "      Asia          6131.641381\n",
       "      Europe       10398.431578\n",
       "      Oceania      14495.021790\n",
       "1972  Africa        2339.615674\n",
       "      Americas      6491.334139\n",
       "      Asia          8420.202687\n",
       "      Europe       12795.649490\n",
       "      Oceania      16417.333380\n",
       "1977  Africa        2585.938508\n",
       "      Americas      7352.007126\n",
       "      Asia          8010.226541\n",
       "      Europe       14654.702392\n",
       "      Oceania      17283.957605\n",
       "1982  Africa        2481.592960\n",
       "      Americas      7506.737088\n",
       "      Asia          7635.889024\n",
       "      Europe       16031.241925\n",
       "      Oceania      18554.709840\n",
       "1987  Africa        2282.668991\n",
       "      Americas      7793.400261\n",
       "      Asia          7819.346213\n",
       "      Europe       17678.978933\n",
       "      Oceania      20448.040160\n",
       "1992  Africa        2281.810333\n",
       "      Americas      8044.934406\n",
       "      Asia          8889.388649\n",
       "      Europe       17563.779470\n",
       "      Oceania      20894.045885\n",
       "1997  Africa        2378.759555\n",
       "      Americas      8889.300863\n",
       "      Asia         10121.554294\n",
       "      Europe       19624.496533\n",
       "      Oceania      24024.175170\n",
       "2002  Africa        2599.385159\n",
       "      Americas      9287.677107\n",
       "      Asia         10469.320282\n",
       "      Europe       22301.646929\n",
       "      Oceania      26938.778040\n",
       "2007  Africa        3089.032605\n",
       "      Americas     11003.031625\n",
       "      Asia         12832.353324\n",
       "      Europe       25713.704122\n",
       "      Oceania      29810.188275\n",
       "Name: gdpPercap, dtype: float64"
      ]
     },
     "execution_count": 7,
     "metadata": {},
     "output_type": "execute_result"
    }
   ],
   "source": [
    "g4 = df.groupby(['year' , 'continent'])\n",
    "\n",
    "g4.gdpPercap.mean()"
   ]
  },
  {
   "cell_type": "markdown",
   "metadata": {},
   "source": [
    "Vous avez peut-être remarqué que ces calculs ne fonctionnent que pour les fonctions intégrées pandas,\n",
    "comme moyenne, mean(), max(), min(), std() , var().\n",
    "\n",
    "Pour ceux qui veulent gérer leur propre fonction. Comment procéder?"
   ]
  },
  {
   "cell_type": "markdown",
   "metadata": {},
   "source": [
    "### b. Aggregation "
   ]
  },
  {
   "cell_type": "markdown",
   "metadata": {},
   "source": [
    "\n",
    "**La première approche consiste à utiliser les fonctions intégrées de la bibliothèque numpy**"
   ]
  },
  {
   "cell_type": "markdown",
   "metadata": {},
   "source": [
    "La commande ci-dessous renvoie la médiane de la colonne 'gdpPercap'  des données groupées par année "
   ]
  },
  {
   "cell_type": "code",
   "execution_count": 9,
   "metadata": {},
   "outputs": [],
   "source": [
    "##commencons par importer le module numpy\n",
    "import numpy as np "
   ]
  },
  {
   "cell_type": "code",
   "execution_count": 10,
   "metadata": {},
   "outputs": [
    {
     "data": {
      "text/plain": [
       "year\n",
       "1952    2039.022668\n",
       "1957    2219.620969\n",
       "1962    2406.396157\n",
       "1967    2678.334741\n",
       "1972    3407.766502\n",
       "1977    3821.864721\n",
       "1982    4249.929974\n",
       "1987    4381.397334\n",
       "1992    4441.841270\n",
       "1997    4837.046833\n",
       "2002    5537.232160\n",
       "2007    6548.314896\n",
       "Name: gdpPercap, dtype: float64"
      ]
     },
     "execution_count": 10,
     "metadata": {},
     "output_type": "execute_result"
    }
   ],
   "source": [
    "g5 = df.groupby('year')['gdpPercap'].agg(np.median)\n",
    "g5"
   ]
  },
  {
   "cell_type": "markdown",
   "metadata": {},
   "source": [
    "Vous pouvez également définir votre propre fonction.\n",
    "\n",
    "La fonction ci-dessous renvoie l'équivalent en siècle de la moyenne des données groupées par annuée."
   ]
  },
  {
   "cell_type": "code",
   "execution_count": 11,
   "metadata": {},
   "outputs": [],
   "source": [
    "#Une fonction\n",
    "import numpy as np\n",
    "def century(values):\n",
    "    \"\"\"Cette fonction renvoie l'équivalent\n",
    "    en siècles de la moyenne d'un groupe\"\"\"\n",
    "    n = len(values)\n",
    "    s = np.sum(values)\n",
    "    m = s /(n*100)\n",
    "    return m \n",
    "    "
   ]
  },
  {
   "cell_type": "code",
   "execution_count": 27,
   "metadata": {},
   "outputs": [
    {
     "data": {
      "text/plain": [
       "year\n",
       "1952    0.491582\n",
       "1957    0.516031\n",
       "1962    0.536835\n",
       "1967    0.557577\n",
       "1972    0.577296\n",
       "1977    0.596542\n",
       "1982    0.616246\n",
       "1987    0.633098\n",
       "1992    0.642680\n",
       "1997    0.651241\n",
       "2002    0.657921\n",
       "2007    0.671057\n",
       "Name: lifeExp, dtype: float64"
      ]
     },
     "execution_count": 27,
     "metadata": {},
     "output_type": "execute_result"
    }
   ],
   "source": [
    "##Calcule l'équivalent en siècles de espérance de vie moyenne d'un groupe\n",
    "g6 = df.groupby('year')\n",
    "g6.lifeExp.agg(century)"
   ]
  },
  {
   "cell_type": "markdown",
   "metadata": {},
   "source": [
    "A vous de jouer! Experimentez avec des fonctions de votre choix.\n",
    "\n"
   ]
  },
  {
   "cell_type": "markdown",
   "metadata": {},
   "source": [
    "## 2.  Visualisation avec Matplotlib\n",
    "\n",
    "Pour cet exercise, nous allons utilisé le meme tableau des données **df** avec le module **Matplotlib**"
   ]
  },
  {
   "cell_type": "code",
   "execution_count": 18,
   "metadata": {},
   "outputs": [],
   "source": [
    "## commencons par importer\n",
    "\n",
    "import matplotlib.pyplot as plt\n",
    "%matplotlib inline"
   ]
  },
  {
   "cell_type": "markdown",
   "metadata": {},
   "source": [
    "### Exploration avec les données de a RDC.\n",
    "\n",
    "1. Afficher espérance de vie (lifeExp), la population ainsi que le pib des congolais par année"
   ]
  },
  {
   "cell_type": "code",
   "execution_count": 26,
   "metadata": {},
   "outputs": [
    {
     "data": {
      "text/html": [
       "<div>\n",
       "<style scoped>\n",
       "    .dataframe tbody tr th:only-of-type {\n",
       "        vertical-align: middle;\n",
       "    }\n",
       "\n",
       "    .dataframe tbody tr th {\n",
       "        vertical-align: top;\n",
       "    }\n",
       "\n",
       "    .dataframe thead th {\n",
       "        text-align: right;\n",
       "    }\n",
       "</style>\n",
       "<table border=\"1\" class=\"dataframe\">\n",
       "  <thead>\n",
       "    <tr style=\"text-align: right;\">\n",
       "      <th></th>\n",
       "      <th>country</th>\n",
       "      <th>continent</th>\n",
       "      <th>year</th>\n",
       "      <th>lifeExp</th>\n",
       "      <th>pop</th>\n",
       "      <th>gdpPercap</th>\n",
       "    </tr>\n",
       "  </thead>\n",
       "  <tbody>\n",
       "    <tr>\n",
       "      <th>300</th>\n",
       "      <td>Congo, Dem. Rep.</td>\n",
       "      <td>Africa</td>\n",
       "      <td>1952</td>\n",
       "      <td>39.143</td>\n",
       "      <td>14100005</td>\n",
       "      <td>780.542326</td>\n",
       "    </tr>\n",
       "    <tr>\n",
       "      <th>301</th>\n",
       "      <td>Congo, Dem. Rep.</td>\n",
       "      <td>Africa</td>\n",
       "      <td>1957</td>\n",
       "      <td>40.652</td>\n",
       "      <td>15577932</td>\n",
       "      <td>905.860230</td>\n",
       "    </tr>\n",
       "    <tr>\n",
       "      <th>302</th>\n",
       "      <td>Congo, Dem. Rep.</td>\n",
       "      <td>Africa</td>\n",
       "      <td>1962</td>\n",
       "      <td>42.122</td>\n",
       "      <td>17486434</td>\n",
       "      <td>896.314634</td>\n",
       "    </tr>\n",
       "    <tr>\n",
       "      <th>303</th>\n",
       "      <td>Congo, Dem. Rep.</td>\n",
       "      <td>Africa</td>\n",
       "      <td>1967</td>\n",
       "      <td>44.056</td>\n",
       "      <td>19941073</td>\n",
       "      <td>861.593242</td>\n",
       "    </tr>\n",
       "    <tr>\n",
       "      <th>304</th>\n",
       "      <td>Congo, Dem. Rep.</td>\n",
       "      <td>Africa</td>\n",
       "      <td>1972</td>\n",
       "      <td>45.989</td>\n",
       "      <td>23007669</td>\n",
       "      <td>904.896069</td>\n",
       "    </tr>\n",
       "    <tr>\n",
       "      <th>305</th>\n",
       "      <td>Congo, Dem. Rep.</td>\n",
       "      <td>Africa</td>\n",
       "      <td>1977</td>\n",
       "      <td>47.804</td>\n",
       "      <td>26480870</td>\n",
       "      <td>795.757282</td>\n",
       "    </tr>\n",
       "    <tr>\n",
       "      <th>306</th>\n",
       "      <td>Congo, Dem. Rep.</td>\n",
       "      <td>Africa</td>\n",
       "      <td>1982</td>\n",
       "      <td>47.784</td>\n",
       "      <td>30646495</td>\n",
       "      <td>673.747818</td>\n",
       "    </tr>\n",
       "    <tr>\n",
       "      <th>307</th>\n",
       "      <td>Congo, Dem. Rep.</td>\n",
       "      <td>Africa</td>\n",
       "      <td>1987</td>\n",
       "      <td>47.412</td>\n",
       "      <td>35481645</td>\n",
       "      <td>672.774812</td>\n",
       "    </tr>\n",
       "    <tr>\n",
       "      <th>308</th>\n",
       "      <td>Congo, Dem. Rep.</td>\n",
       "      <td>Africa</td>\n",
       "      <td>1992</td>\n",
       "      <td>45.548</td>\n",
       "      <td>41672143</td>\n",
       "      <td>457.719181</td>\n",
       "    </tr>\n",
       "    <tr>\n",
       "      <th>309</th>\n",
       "      <td>Congo, Dem. Rep.</td>\n",
       "      <td>Africa</td>\n",
       "      <td>1997</td>\n",
       "      <td>42.587</td>\n",
       "      <td>47798986</td>\n",
       "      <td>312.188423</td>\n",
       "    </tr>\n",
       "    <tr>\n",
       "      <th>310</th>\n",
       "      <td>Congo, Dem. Rep.</td>\n",
       "      <td>Africa</td>\n",
       "      <td>2002</td>\n",
       "      <td>44.966</td>\n",
       "      <td>55379852</td>\n",
       "      <td>241.165877</td>\n",
       "    </tr>\n",
       "    <tr>\n",
       "      <th>311</th>\n",
       "      <td>Congo, Dem. Rep.</td>\n",
       "      <td>Africa</td>\n",
       "      <td>2007</td>\n",
       "      <td>46.462</td>\n",
       "      <td>64606759</td>\n",
       "      <td>277.551859</td>\n",
       "    </tr>\n",
       "  </tbody>\n",
       "</table>\n",
       "</div>"
      ],
      "text/plain": [
       "              country continent  year  lifeExp       pop   gdpPercap\n",
       "300  Congo, Dem. Rep.    Africa  1952   39.143  14100005  780.542326\n",
       "301  Congo, Dem. Rep.    Africa  1957   40.652  15577932  905.860230\n",
       "302  Congo, Dem. Rep.    Africa  1962   42.122  17486434  896.314634\n",
       "303  Congo, Dem. Rep.    Africa  1967   44.056  19941073  861.593242\n",
       "304  Congo, Dem. Rep.    Africa  1972   45.989  23007669  904.896069\n",
       "305  Congo, Dem. Rep.    Africa  1977   47.804  26480870  795.757282\n",
       "306  Congo, Dem. Rep.    Africa  1982   47.784  30646495  673.747818\n",
       "307  Congo, Dem. Rep.    Africa  1987   47.412  35481645  672.774812\n",
       "308  Congo, Dem. Rep.    Africa  1992   45.548  41672143  457.719181\n",
       "309  Congo, Dem. Rep.    Africa  1997   42.587  47798986  312.188423\n",
       "310  Congo, Dem. Rep.    Africa  2002   44.966  55379852  241.165877\n",
       "311  Congo, Dem. Rep.    Africa  2007   46.462  64606759  277.551859"
      ]
     },
     "execution_count": 26,
     "metadata": {},
     "output_type": "execute_result"
    }
   ],
   "source": [
    "df1 = df[(df['continent']=='Africa') & (df['country']=='Congo, Dem. Rep.')] \n",
    "df1"
   ]
  },
  {
   "cell_type": "code",
   "execution_count": 31,
   "metadata": {},
   "outputs": [
    {
     "name": "stderr",
     "output_type": "stream",
     "text": [
      "No handles with labels found to put in legend.\n"
     ]
    },
    {
     "data": {
      "text/plain": [
       "<matplotlib.legend.Legend at 0x7f44c55dd748>"
      ]
     },
     "execution_count": 31,
     "metadata": {},
     "output_type": "execute_result"
    },
    {
     "data": {
      "image/png": "[encoded data removed]",
      "text/plain": [
       "<Figure size 432x288 with 1 Axes>"
      ]
     },
     "metadata": {
      "needs_background": "light"
     },
     "output_type": "display_data"
    }
   ],
   "source": [
    "##Visualiser espérance de vie des congolais\n",
    "plt.plot(df1['year'], df1[\"lifeExp\"])\n",
    "plt.xlabel('years')\n",
    "plt.ylabel('Life Expectancy')\n",
    "plt.legend()"
   ]
  },
  {
   "cell_type": "code",
   "execution_count": 28,
   "metadata": {},
   "outputs": [
    {
     "name": "stderr",
     "output_type": "stream",
     "text": [
      "No handles with labels found to put in legend.\n"
     ]
    },
    {
     "data": {
      "text/plain": [
       "<matplotlib.legend.Legend at 0x7f44c55ddba8>"
      ]
     },
     "execution_count": 28,
     "metadata": {},
     "output_type": "execute_result"
    },
    {
     "data": {
      "image/png": "[encoded data removed]",
      "text/plain": [
       "<Figure size 432x288 with 1 Axes>"
      ]
     },
     "metadata": {
      "needs_background": "light"
     },
     "output_type": "display_data"
    }
   ],
   "source": [
    "##Visualiser la population de la RDC\n",
    "plt.plot(df1['year'], df1[\"pop\"])\n",
    "plt.xlabel('years')\n",
    "plt.ylabel('Life Expectancy')\n",
    "plt.legend(loc = 'best')"
   ]
  },
  {
   "cell_type": "code",
   "execution_count": 29,
   "metadata": {},
   "outputs": [
    {
     "data": {
      "text/html": [
       "<div>\n",
       "<style scoped>\n",
       "    .dataframe tbody tr th:only-of-type {\n",
       "        vertical-align: middle;\n",
       "    }\n",
       "\n",
       "    .dataframe tbody tr th {\n",
       "        vertical-align: top;\n",
       "    }\n",
       "\n",
       "    .dataframe thead th {\n",
       "        text-align: right;\n",
       "    }\n",
       "</style>\n",
       "<table border=\"1\" class=\"dataframe\">\n",
       "  <thead>\n",
       "    <tr style=\"text-align: right;\">\n",
       "      <th></th>\n",
       "      <th>country</th>\n",
       "      <th>continent</th>\n",
       "      <th>year</th>\n",
       "      <th>lifeExp</th>\n",
       "      <th>pop</th>\n",
       "      <th>gdpPercap</th>\n",
       "    </tr>\n",
       "  </thead>\n",
       "  <tbody>\n",
       "    <tr>\n",
       "      <th>309</th>\n",
       "      <td>Congo, Dem. Rep.</td>\n",
       "      <td>Africa</td>\n",
       "      <td>1997</td>\n",
       "      <td>42.587</td>\n",
       "      <td>47798986</td>\n",
       "      <td>312.188423</td>\n",
       "    </tr>\n",
       "    <tr>\n",
       "      <th>310</th>\n",
       "      <td>Congo, Dem. Rep.</td>\n",
       "      <td>Africa</td>\n",
       "      <td>2002</td>\n",
       "      <td>44.966</td>\n",
       "      <td>55379852</td>\n",
       "      <td>241.165877</td>\n",
       "    </tr>\n",
       "    <tr>\n",
       "      <th>311</th>\n",
       "      <td>Congo, Dem. Rep.</td>\n",
       "      <td>Africa</td>\n",
       "      <td>2007</td>\n",
       "      <td>46.462</td>\n",
       "      <td>64606759</td>\n",
       "      <td>277.551859</td>\n",
       "    </tr>\n",
       "  </tbody>\n",
       "</table>\n",
       "</div>"
      ],
      "text/plain": [
       "              country continent  year  lifeExp       pop   gdpPercap\n",
       "309  Congo, Dem. Rep.    Africa  1997   42.587  47798986  312.188423\n",
       "310  Congo, Dem. Rep.    Africa  2002   44.966  55379852  241.165877\n",
       "311  Congo, Dem. Rep.    Africa  2007   46.462  64606759  277.551859"
      ]
     },
     "execution_count": 29,
     "metadata": {},
     "output_type": "execute_result"
    }
   ],
   "source": [
    "df1[df1['year']>1995]  ##Extration pour les années après 1995"
   ]
  },
  {
   "cell_type": "code",
   "execution_count": 30,
   "metadata": {},
   "outputs": [
    {
     "name": "stderr",
     "output_type": "stream",
     "text": [
      "No handles with labels found to put in legend.\n"
     ]
    },
    {
     "data": {
      "text/plain": [
       "<matplotlib.legend.Legend at 0x7f44c558b8d0>"
      ]
     },
     "execution_count": 30,
     "metadata": {},
     "output_type": "execute_result"
    },
    {
     "data": {
      "image/png": "[encoded data removed]",
      "text/plain": [
       "<Figure size 432x288 with 1 Axes>"
      ]
     },
     "metadata": {
      "needs_background": "light"
     },
     "output_type": "display_data"
    }
   ],
   "source": [
    "## ##Visualiser espérance de vie ainsi que le pib des congolais\n",
    "plt.plot(df1['year'], df1[\"lifeExp\"])\n",
    "plt.plot(df1['year'], df1[\"gdpPercap\"])\n",
    "plt.xlabel('years')\n",
    "plt.ylabel('Life Expectancy')\n",
    "plt.legend(loc = 'best')"
   ]
  },
  {
   "cell_type": "markdown",
   "metadata": {},
   "source": [
    "## Visualisation avec histogramme"
   ]
  },
  {
   "cell_type": "code",
   "execution_count": 34,
   "metadata": {},
   "outputs": [
    {
     "data": {
      "text/plain": [
       "([<matplotlib.axis.XTick at 0x7f44c535ea90>,\n",
       "  <matplotlib.axis.XTick at 0x7f44c535e588>,\n",
       "  <matplotlib.axis.XTick at 0x7f44c5355b70>,\n",
       "  <matplotlib.axis.XTick at 0x7f44c531ff28>,\n",
       "  <matplotlib.axis.XTick at 0x7f44c532f588>,\n",
       "  <matplotlib.axis.XTick at 0x7f44c532fba8>,\n",
       "  <matplotlib.axis.XTick at 0x7f44c5339208>,\n",
       "  <matplotlib.axis.XTick at 0x7f44c532f6a0>,\n",
       "  <matplotlib.axis.XTick at 0x7f44c5339588>,\n",
       "  <matplotlib.axis.XTick at 0x7f44c5339ba8>,\n",
       "  <matplotlib.axis.XTick at 0x7f44c5342208>,\n",
       "  <matplotlib.axis.XTick at 0x7f44c5342828>],\n",
       " [Text(0, 0, '1952'),\n",
       "  Text(1, 0, '1957'),\n",
       "  Text(2, 0, '1962'),\n",
       "  Text(3, 0, '1967'),\n",
       "  Text(4, 0, '1972'),\n",
       "  Text(5, 0, '1977'),\n",
       "  Text(6, 0, '1982'),\n",
       "  Text(7, 0, '1987'),\n",
       "  Text(8, 0, '1992'),\n",
       "  Text(9, 0, '1997'),\n",
       "  Text(10, 0, '2002'),\n",
       "  Text(11, 0, '2007')])"
      ]
     },
     "execution_count": 34,
     "metadata": {},
     "output_type": "execute_result"
    },
    {
     "data": {
      "image/png": "[encoded data removed]",
      "text/plain": [
       "<Figure size 800x400 with 1 Axes>"
      ]
     },
     "metadata": {
      "needs_background": "light"
     },
     "output_type": "display_data"
    }
   ],
   "source": [
    "plt.figure(figsize=(8,4), dpi=100)\n",
    "plt.bar(np.arange(len(df1['lifeExp'])), df1['lifeExp'])\n",
    "plt.xticks(np.arange(len(df1['lifeExp'])),list(df1['year']))"
   ]
  },
  {
   "cell_type": "code",
   "execution_count": 35,
   "metadata": {},
   "outputs": [
    {
     "data": {
      "text/html": [
       "<div>\n",
       "<style scoped>\n",
       "    .dataframe tbody tr th:only-of-type {\n",
       "        vertical-align: middle;\n",
       "    }\n",
       "\n",
       "    .dataframe tbody tr th {\n",
       "        vertical-align: top;\n",
       "    }\n",
       "\n",
       "    .dataframe thead th {\n",
       "        text-align: right;\n",
       "    }\n",
       "</style>\n",
       "<table border=\"1\" class=\"dataframe\">\n",
       "  <thead>\n",
       "    <tr style=\"text-align: right;\">\n",
       "      <th></th>\n",
       "      <th>year</th>\n",
       "      <th>continent</th>\n",
       "      <th>lifeExp</th>\n",
       "    </tr>\n",
       "  </thead>\n",
       "  <tbody>\n",
       "    <tr>\n",
       "      <th>0</th>\n",
       "      <td>1952</td>\n",
       "      <td>Africa</td>\n",
       "      <td>39.135500</td>\n",
       "    </tr>\n",
       "    <tr>\n",
       "      <th>1</th>\n",
       "      <td>1952</td>\n",
       "      <td>Americas</td>\n",
       "      <td>53.279840</td>\n",
       "    </tr>\n",
       "    <tr>\n",
       "      <th>2</th>\n",
       "      <td>1952</td>\n",
       "      <td>Asia</td>\n",
       "      <td>46.861688</td>\n",
       "    </tr>\n",
       "    <tr>\n",
       "      <th>3</th>\n",
       "      <td>1952</td>\n",
       "      <td>Europe</td>\n",
       "      <td>64.725000</td>\n",
       "    </tr>\n",
       "    <tr>\n",
       "      <th>4</th>\n",
       "      <td>1952</td>\n",
       "      <td>Oceania</td>\n",
       "      <td>69.255000</td>\n",
       "    </tr>\n",
       "  </tbody>\n",
       "</table>\n",
       "</div>"
      ],
      "text/plain": [
       "   year continent    lifeExp\n",
       "0  1952    Africa  39.135500\n",
       "1  1952  Americas  53.279840\n",
       "2  1952      Asia  46.861688\n",
       "3  1952    Europe  64.725000\n",
       "4  1952   Oceania  69.255000"
      ]
     },
     "execution_count": 35,
     "metadata": {},
     "output_type": "execute_result"
    }
   ],
   "source": [
    "##Extractions de espérance de vie par continent\n",
    "df2=df.groupby(['year','continent'])['lifeExp'].mean()\n",
    "df21=pd.DataFrame(df2).reset_index()\n",
    "df21.head()"
   ]
  },
  {
   "cell_type": "markdown",
   "metadata": {},
   "source": [
    "## Visualisation avec Pie chat\n",
    "\n",
    "Visualiser l'espérance de vie par continent en 2007."
   ]
  },
  {
   "cell_type": "code",
   "execution_count": 38,
   "metadata": {},
   "outputs": [
    {
     "data": {
      "image/png": "[encoded data removed]",
      "text/plain": [
       "<Figure size 432x288 with 1 Axes>"
      ]
     },
     "metadata": {},
     "output_type": "display_data"
    }
   ],
   "source": [
    "labels = df21[df21['year']==2007]['continent']\n",
    "values= df21[df21['year']==2007]['lifeExp']\n",
    "colors = ['b','g', 'r', 'c', 'm']\n",
    "explode = np.zeros(len(df21[df21['year']==2007]))\n",
    "plt.title('Life Expectancy in 1952')\n",
    "plt.pie(values,labels=labels,colors=colors,explode=explode,\n",
    "shadow=False,autopct='%1.2f%%',startangle=180)  #autopct to specify the percentage needed\n",
    "plt.axis('equal')\n",
    "plt.show()"
   ]
  },
  {
   "cell_type": "markdown",
   "metadata": {},
   "source": [
    "A vous de jouer! Experimentez autant que vous voulez, en fonction des informations que vous voulez avoir.\n",
    "\n"
   ]
  },
  {
   "cell_type": "code",
   "execution_count": null,
   "metadata": {},
   "outputs": [],
   "source": []
  },
  {
   "cell_type": "code",
   "execution_count": null,
   "metadata": {},
   "outputs": [],
   "source": []
  },
  {
   "cell_type": "markdown",
   "metadata": {},
   "source": [
    "Elaboré par: Berthine Nyunga\n",
    "Prière de nous contacter au cas où vous avez des questions.\n",
    "\n",
    "Email: bertheny2@gmail.com\n",
    "\n",
    "Abonnez-vous à notre page Twitter: **@IndabaxDrc** et notre page Facebook: **@IndabaX DRC**\n",
    "\n",
    "Partager votre experience avec IndabaX Drc2023 en nous identifiant sur Twitter **@IndabaxDrc** et sur facebook  **@IndabaX DRC**\n",
    "\n",
    "Merci pour votre participation."
   ]
  },
  {
   "cell_type": "markdown",
   "metadata": {},
   "source": [
    " "
   ]
  }
 ],
 "metadata": {
  "kernelspec": {
   "display_name": "Python 3",
   "language": "python",
   "name": "python3"
  },
  "language_info": {
   "codemirror_mode": {
    "name": "ipython",
    "version": 3
   },
   "file_extension": ".py",
   "mimetype": "text/x-python",
   "name": "python",
   "nbconvert_exporter": "python",
   "pygments_lexer": "ipython3",
   "version": "3.7.3"
  }
 },
 "nbformat": 4,
 "nbformat_minor": 2
}
